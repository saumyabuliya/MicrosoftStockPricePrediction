{
 "cells": [
  {
   "cell_type": "markdown",
   "metadata": {},
   "source": [
    "### Importing libraries"
   ]
  },
  {
   "cell_type": "code",
   "execution_count": 1,
   "metadata": {},
   "outputs": [],
   "source": [
    "import numpy as np\n",
    "import pandas as pd\n",
    "import matplotlib\n",
    "import matplotlib.pyplot as plt\n",
    "from sklearn.preprocessing import MinMaxScaler\n",
    "from tensorflow.keras.layers import Dense,LSTM,Dropout\n",
    "from sklearn.model_selection import TimeSeriesSplit\n",
    "from sklearn.metrics import r2_score,mean_squared_error\n",
    "import matplotlib.dates as madates\n",
    "from sklearn import linear_model\n",
    "from tensorflow.keras import Sequential\n",
    "from tensorflow.keras.models import load_model\n",
    "import tensorflow.keras.backend as K\n",
    "from tensorflow.keras.callbacks import EarlyStopping\n",
    "from tensorflow.keras.optimizers import Adam\n",
    "from tensorflow.keras.utils import plot_model\n",
    "\n",
    "\n",
    "\n",
    "\n",
    "%matplotlib inline        \n"
   ]
  },
  {
   "cell_type": "code",
   "execution_count": 2,
   "metadata": {},
   "outputs": [
    {
     "data": {
      "text/html": [
       "<div>\n",
       "<style scoped>\n",
       "    .dataframe tbody tr th:only-of-type {\n",
       "        vertical-align: middle;\n",
       "    }\n",
       "\n",
       "    .dataframe tbody tr th {\n",
       "        vertical-align: top;\n",
       "    }\n",
       "\n",
       "    .dataframe thead th {\n",
       "        text-align: right;\n",
       "    }\n",
       "</style>\n",
       "<table border=\"1\" class=\"dataframe\">\n",
       "  <thead>\n",
       "    <tr style=\"text-align: right;\">\n",
       "      <th></th>\n",
       "      <th>Open</th>\n",
       "      <th>High</th>\n",
       "      <th>Low</th>\n",
       "      <th>Close</th>\n",
       "      <th>Adj Close</th>\n",
       "      <th>Volume</th>\n",
       "    </tr>\n",
       "    <tr>\n",
       "      <th>Date</th>\n",
       "      <th></th>\n",
       "      <th></th>\n",
       "      <th></th>\n",
       "      <th></th>\n",
       "      <th></th>\n",
       "      <th></th>\n",
       "    </tr>\n",
       "  </thead>\n",
       "  <tbody>\n",
       "    <tr>\n",
       "      <th>2022-06-09</th>\n",
       "      <td>267.779999</td>\n",
       "      <td>272.709991</td>\n",
       "      <td>264.630005</td>\n",
       "      <td>264.790009</td>\n",
       "      <td>262.255035</td>\n",
       "      <td>26439700</td>\n",
       "    </tr>\n",
       "    <tr>\n",
       "      <th>2022-06-10</th>\n",
       "      <td>260.579987</td>\n",
       "      <td>260.579987</td>\n",
       "      <td>252.529999</td>\n",
       "      <td>252.990005</td>\n",
       "      <td>250.567963</td>\n",
       "      <td>31422800</td>\n",
       "    </tr>\n",
       "    <tr>\n",
       "      <th>2022-06-13</th>\n",
       "      <td>245.110001</td>\n",
       "      <td>249.020004</td>\n",
       "      <td>241.529999</td>\n",
       "      <td>242.259995</td>\n",
       "      <td>239.940674</td>\n",
       "      <td>46135800</td>\n",
       "    </tr>\n",
       "    <tr>\n",
       "      <th>2022-06-14</th>\n",
       "      <td>243.860001</td>\n",
       "      <td>245.740005</td>\n",
       "      <td>241.509995</td>\n",
       "      <td>244.490005</td>\n",
       "      <td>242.149353</td>\n",
       "      <td>28651500</td>\n",
       "    </tr>\n",
       "    <tr>\n",
       "      <th>2022-06-15</th>\n",
       "      <td>248.309998</td>\n",
       "      <td>255.300003</td>\n",
       "      <td>246.419998</td>\n",
       "      <td>251.759995</td>\n",
       "      <td>249.349731</td>\n",
       "      <td>33111700</td>\n",
       "    </tr>\n",
       "  </tbody>\n",
       "</table>\n",
       "</div>"
      ],
      "text/plain": [
       "                  Open        High         Low       Close   Adj Close  \\\n",
       "Date                                                                     \n",
       "2022-06-09  267.779999  272.709991  264.630005  264.790009  262.255035   \n",
       "2022-06-10  260.579987  260.579987  252.529999  252.990005  250.567963   \n",
       "2022-06-13  245.110001  249.020004  241.529999  242.259995  239.940674   \n",
       "2022-06-14  243.860001  245.740005  241.509995  244.490005  242.149353   \n",
       "2022-06-15  248.309998  255.300003  246.419998  251.759995  249.349731   \n",
       "\n",
       "              Volume  \n",
       "Date                  \n",
       "2022-06-09  26439700  \n",
       "2022-06-10  31422800  \n",
       "2022-06-13  46135800  \n",
       "2022-06-14  28651500  \n",
       "2022-06-15  33111700  "
      ]
     },
     "execution_count": 2,
     "metadata": {},
     "output_type": "execute_result"
    }
   ],
   "source": [
    "\n",
    "\n",
    "stock_df = pd.read_csv(r\"C:\\Users\\sanat\\Downloads\\MSFT.csv\",na_values=['null'],index_col='Date',parse_dates=True,infer_datetime_format=True)\n",
    "stock_df.head()"
   ]
  },
  {
   "cell_type": "code",
   "execution_count": 3,
   "metadata": {},
   "outputs": [
    {
     "name": "stdout",
     "output_type": "stream",
     "text": [
      "Shape of dataframe: (251, 6)\n",
      "Null values: False\n"
     ]
    }
   ],
   "source": [
    "print(f\"Shape of dataframe: {stock_df.shape}\")\n",
    "print(f\"Null values: {stock_df.isnull().values.any()}\")"
   ]
  },
  {
   "cell_type": "markdown",
   "metadata": {},
   "source": [
    "## Plotting the adjusted close values"
   ]
  },
  {
   "cell_type": "markdown",
   "metadata": {},
   "source": [
    "Adjusted close value is the value of the stock at the end of the day's trading activities"
   ]
  },
  {
   "cell_type": "code",
   "execution_count": 4,
   "metadata": {},
   "outputs": [
    {
     "data": {
      "text/plain": [
       "<Axes: xlabel='Date', ylabel='Adjusted Close'>"
      ]
     },
     "execution_count": 4,
     "metadata": {},
     "output_type": "execute_result"
    },
    {
     "data": {
      "image/png": "[encoded data removed]",
      "text/plain": [
       "<Figure size 640x480 with 1 Axes>"
      ]
     },
     "metadata": {},
     "output_type": "display_data"
    }
   ],
   "source": [
    "stock_df['Adj Close'].plot(kind='line',ylabel=\"Adjusted Close\")"
   ]
  },
  {
   "cell_type": "markdown",
   "metadata": {},
   "source": [
    "## Defining target variable and feature space"
   ]
  },
  {
   "cell_type": "code",
   "execution_count": 5,
   "metadata": {},
   "outputs": [],
   "source": [
    "feats = stock_df.drop('Adj Close',axis=1)\n",
    "target = stock_df['Adj Close']"
   ]
  },
  {
   "cell_type": "markdown",
   "metadata": {},
   "source": [
    "## Scaling"
   ]
  },
  {
   "cell_type": "markdown",
   "metadata": {},
   "source": [
    "Scale the feature space to values in the range [0,1] using MinMax Scaler. Helps for stability of gradient descent by ensuring values of the partial derivatives are neither too small nor too large. No need to scale the response since we want the response variable to be the actual close values and not a scaled version."
   ]
  },
  {
   "cell_type": "markdown",
   "metadata": {},
   "source": [
    "We do not scale the response because scaling biases evaluation metrics, leading us to believe that the model is a lot better than it actually is."
   ]
  },
  {
   "cell_type": "code",
   "execution_count": 6,
   "metadata": {},
   "outputs": [
    {
     "data": {
      "text/plain": [
       "array([[0.42647311, 0.44265755, 0.42233777, 0.41531768, 0.22416945],\n",
       "       [0.36534208, 0.33999141, 0.32252745, 0.31834994, 0.28896818],\n",
       "       [0.2339956 , 0.24214982, 0.23179084, 0.23017499, 0.48029159],\n",
       "       [0.22338259, 0.21438851, 0.23162583, 0.24850032, 0.25293103],\n",
       "       [0.26116488, 0.29530259, 0.27212738, 0.30824221, 0.31093013]])"
      ]
     },
     "execution_count": 6,
     "metadata": {},
     "output_type": "execute_result"
    }
   ],
   "source": [
    "scaler = MinMaxScaler()\n",
    "scaled_feats = scaler.fit_transform(feats)\n",
    "scaled_feats[:5,:]"
   ]
  },
  {
   "cell_type": "markdown",
   "metadata": {},
   "source": [
    "MinMaxScaler returns a NumPy array, so we convert it back to a DataFrame so that we can split the data on dates"
   ]
  },
  {
   "cell_type": "code",
   "execution_count": 7,
   "metadata": {},
   "outputs": [],
   "source": [
    "scaled_df = pd.DataFrame(data=scaled_feats,columns=feats.columns,index=stock_df.index)"
   ]
  },
  {
   "cell_type": "code",
   "execution_count": 8,
   "metadata": {},
   "outputs": [
    {
     "data": {
      "text/html": [
       "<div>\n",
       "<style scoped>\n",
       "    .dataframe tbody tr th:only-of-type {\n",
       "        vertical-align: middle;\n",
       "    }\n",
       "\n",
       "    .dataframe tbody tr th {\n",
       "        vertical-align: top;\n",
       "    }\n",
       "\n",
       "    .dataframe thead th {\n",
       "        text-align: right;\n",
       "    }\n",
       "</style>\n",
       "<table border=\"1\" class=\"dataframe\">\n",
       "  <thead>\n",
       "    <tr style=\"text-align: right;\">\n",
       "      <th></th>\n",
       "      <th>Open</th>\n",
       "      <th>High</th>\n",
       "      <th>Low</th>\n",
       "      <th>Close</th>\n",
       "      <th>Volume</th>\n",
       "    </tr>\n",
       "    <tr>\n",
       "      <th>Date</th>\n",
       "      <th></th>\n",
       "      <th></th>\n",
       "      <th></th>\n",
       "      <th></th>\n",
       "      <th></th>\n",
       "    </tr>\n",
       "  </thead>\n",
       "  <tbody>\n",
       "    <tr>\n",
       "      <th>2022-06-09</th>\n",
       "      <td>0.426473</td>\n",
       "      <td>0.442658</td>\n",
       "      <td>0.422338</td>\n",
       "      <td>0.415318</td>\n",
       "      <td>0.224169</td>\n",
       "    </tr>\n",
       "    <tr>\n",
       "      <th>2022-06-10</th>\n",
       "      <td>0.365342</td>\n",
       "      <td>0.339991</td>\n",
       "      <td>0.322527</td>\n",
       "      <td>0.318350</td>\n",
       "      <td>0.288968</td>\n",
       "    </tr>\n",
       "    <tr>\n",
       "      <th>2022-06-13</th>\n",
       "      <td>0.233996</td>\n",
       "      <td>0.242150</td>\n",
       "      <td>0.231791</td>\n",
       "      <td>0.230175</td>\n",
       "      <td>0.480292</td>\n",
       "    </tr>\n",
       "    <tr>\n",
       "      <th>2022-06-14</th>\n",
       "      <td>0.223383</td>\n",
       "      <td>0.214389</td>\n",
       "      <td>0.231626</td>\n",
       "      <td>0.248500</td>\n",
       "      <td>0.252931</td>\n",
       "    </tr>\n",
       "    <tr>\n",
       "      <th>2022-06-15</th>\n",
       "      <td>0.261165</td>\n",
       "      <td>0.295303</td>\n",
       "      <td>0.272127</td>\n",
       "      <td>0.308242</td>\n",
       "      <td>0.310930</td>\n",
       "    </tr>\n",
       "  </tbody>\n",
       "</table>\n",
       "</div>"
      ],
      "text/plain": [
       "                Open      High       Low     Close    Volume\n",
       "Date                                                        \n",
       "2022-06-09  0.426473  0.442658  0.422338  0.415318  0.224169\n",
       "2022-06-10  0.365342  0.339991  0.322527  0.318350  0.288968\n",
       "2022-06-13  0.233996  0.242150  0.231791  0.230175  0.480292\n",
       "2022-06-14  0.223383  0.214389  0.231626  0.248500  0.252931\n",
       "2022-06-15  0.261165  0.295303  0.272127  0.308242  0.310930"
      ]
     },
     "execution_count": 8,
     "metadata": {},
     "output_type": "execute_result"
    }
   ],
   "source": [
    "scaled_df.head()"
   ]
  },
  {
   "cell_type": "code",
   "execution_count": 9,
   "metadata": {},
   "outputs": [
    {
     "name": "stdout",
     "output_type": "stream",
     "text": [
      "Shape of X_train: (229, 5)\n",
      "Shape of X_test: (22, 5)\n",
      "Shape of y_train: (229,)\n",
      "Shape of y_train: (22,)\n"
     ]
    }
   ],
   "source": [
    "ts_split = TimeSeriesSplit(n_splits=10)\n",
    "for train_split, test_split in ts_split.split(scaled_df):\n",
    "    x_train,x_test = scaled_df[:len(train_split)], scaled_df[len(train_split):len(train_split)+len(test_split)]\n",
    "    y_train,y_test = target[:len(train_split)], target[len(train_split):len(train_split)+len(test_split)]\n",
    "    \n",
    "print(f\"Shape of X_train: {x_train.shape}\")\n",
    "print(f\"Shape of X_test: {x_test.shape}\")\n",
    "print(f\"Shape of y_train: {y_train.shape}\")\n",
    "print(f\"Shape of y_train: {y_test.shape}\")"
   ]
  },
  {
   "cell_type": "markdown",
   "metadata": {},
   "source": [
    "To pass our feature set as input to the LSTM layer, we need to reshape the input to: (batch_size,num_timesteps,num_features). We have 5 features and we want to predict for only one instance of time, therefore num_timesteps=1"
   ]
  },
  {
   "cell_type": "code",
   "execution_count": 10,
   "metadata": {},
   "outputs": [],
   "source": [
    "x_train = np.array(x_train)\n",
    "x_train = x_train.reshape(x_train.shape[0],1,x_train.shape[1])\n",
    "\n",
    "x_test = np.array(x_test)\n",
    "x_test = x_test.reshape(x_test.shape[0],1,x_test.shape[1])\n"
   ]
  },
  {
   "cell_type": "markdown",
   "metadata": {},
   "source": [
    "## Defining Model Architecture"
   ]
  },
  {
   "cell_type": "code",
   "execution_count": 11,
   "metadata": {},
   "outputs": [
    {
     "data": {
      "text/plain": [
       "TensorShape([229, 64])"
      ]
     },
     "execution_count": 11,
     "metadata": {},
     "output_type": "execute_result"
    }
   ],
   "source": [
    "import tensorflow as tf\n",
    "inputs = tf.random.normal(x_train.shape)\n",
    "out = LSTM(32,input_shape=(1,x_train.shape[2]),activation=\"relu\",return_sequences=True)(inputs)\n",
    "out2 = LSTM(64,input_shape=(None,None,32),activation=\"relu\",return_sequences=False)(out)\n",
    "out2.shape"
   ]
  },
  {
   "cell_type": "code",
   "execution_count": 16,
   "metadata": {},
   "outputs": [],
   "source": [
    "model = Sequential()\n",
    "model.add(LSTM(32,input_shape=(1,x_train.shape[2]),activation=\"relu\",return_sequences=True))   # Set return_sequences=False since we need point predictions\n",
    "model.add(LSTM(64,input_shape=(None,None,32),activation=\"relu\",return_sequences=True))   # Set return_sequences=False since we need point predictions\n",
    "model.add(LSTM(32,input_shape=(None,None,64),activation=\"relu\",return_sequences=False))   # Set return_sequences=False since we need point predictions\n",
    "model.add(Dense(1))\n",
    "\n",
    "# Compile the model\n",
    "model.compile(loss=\"mean_squared_error\",optimizer=\"adam\")\n",
    "\n",
    "    "
   ]
  },
  {
   "cell_type": "code",
   "execution_count": 17,
   "metadata": {},
   "outputs": [
    {
     "name": "stdout",
     "output_type": "stream",
     "text": [
      "Epoch 1/150\n",
      "29/29 [==============================] - 5s 4ms/step - loss: 65968.5078\n",
      "Epoch 2/150\n",
      "29/29 [==============================] - 0s 4ms/step - loss: 65905.2969\n",
      "Epoch 3/150\n",
      "29/29 [==============================] - 0s 5ms/step - loss: 65612.8984\n",
      "Epoch 4/150\n",
      "29/29 [==============================] - 0s 4ms/step - loss: 63350.0391\n",
      "Epoch 5/150\n",
      "29/29 [==============================] - 0s 4ms/step - loss: 52526.9648\n",
      "Epoch 6/150\n",
      "29/29 [==============================] - 0s 5ms/step - loss: 28168.4941\n",
      "Epoch 7/150\n",
      "29/29 [==============================] - 0s 5ms/step - loss: 10319.8887\n",
      "Epoch 8/150\n",
      "29/29 [==============================] - 0s 4ms/step - loss: 5981.1250\n",
      "Epoch 9/150\n",
      "29/29 [==============================] - 0s 4ms/step - loss: 5689.9199\n",
      "Epoch 10/150\n",
      "29/29 [==============================] - 0s 4ms/step - loss: 5131.9951\n",
      "Epoch 11/150\n",
      "29/29 [==============================] - 0s 5ms/step - loss: 4675.5835\n",
      "Epoch 12/150\n",
      "29/29 [==============================] - 0s 4ms/step - loss: 4292.1084\n",
      "Epoch 13/150\n",
      "29/29 [==============================] - 0s 4ms/step - loss: 3952.5664\n",
      "Epoch 14/150\n",
      "29/29 [==============================] - 0s 4ms/step - loss: 3650.1201\n",
      "Epoch 15/150\n",
      "29/29 [==============================] - 0s 4ms/step - loss: 3379.3274\n",
      "Epoch 16/150\n",
      "29/29 [==============================] - 0s 4ms/step - loss: 3135.4358\n",
      "Epoch 17/150\n",
      "29/29 [==============================] - 0s 4ms/step - loss: 2914.7078\n",
      "Epoch 18/150\n",
      "29/29 [==============================] - 0s 5ms/step - loss: 2714.1313\n",
      "Epoch 19/150\n",
      "29/29 [==============================] - 0s 5ms/step - loss: 2531.2178\n",
      "Epoch 20/150\n",
      "29/29 [==============================] - 0s 4ms/step - loss: 2363.8862\n",
      "Epoch 21/150\n",
      "29/29 [==============================] - 0s 5ms/step - loss: 2210.3806\n",
      "Epoch 22/150\n",
      "29/29 [==============================] - 0s 4ms/step - loss: 2069.2085\n",
      "Epoch 23/150\n",
      "29/29 [==============================] - 0s 4ms/step - loss: 1939.0901\n",
      "Epoch 24/150\n",
      "29/29 [==============================] - 0s 4ms/step - loss: 1818.9199\n",
      "Epoch 25/150\n",
      "29/29 [==============================] - 0s 4ms/step - loss: 1707.7410\n",
      "Epoch 26/150\n",
      "29/29 [==============================] - 0s 5ms/step - loss: 1604.7169\n",
      "Epoch 27/150\n",
      "29/29 [==============================] - 0s 5ms/step - loss: 1509.1135\n",
      "Epoch 28/150\n",
      "29/29 [==============================] - 0s 5ms/step - loss: 1420.2838\n",
      "Epoch 29/150\n",
      "29/29 [==============================] - 0s 4ms/step - loss: 1337.6527\n",
      "Epoch 30/150\n",
      "29/29 [==============================] - 0s 5ms/step - loss: 1260.7091\n",
      "Epoch 31/150\n",
      "29/29 [==============================] - 0s 5ms/step - loss: 1188.9939\n",
      "Epoch 32/150\n",
      "29/29 [==============================] - 0s 5ms/step - loss: 1122.0951\n",
      "Epoch 33/150\n",
      "29/29 [==============================] - 0s 4ms/step - loss: 1059.6394\n",
      "Epoch 34/150\n",
      "29/29 [==============================] - 0s 4ms/step - loss: 1001.2889\n",
      "Epoch 35/150\n",
      "29/29 [==============================] - 0s 5ms/step - loss: 946.7347\n",
      "Epoch 36/150\n",
      "29/29 [==============================] - 0s 5ms/step - loss: 895.6952\n",
      "Epoch 37/150\n",
      "29/29 [==============================] - 0s 5ms/step - loss: 847.9121\n",
      "Epoch 38/150\n",
      "29/29 [==============================] - 0s 5ms/step - loss: 803.1474\n",
      "Epoch 39/150\n",
      "29/29 [==============================] - 0s 4ms/step - loss: 761.1823\n",
      "Epoch 40/150\n",
      "29/29 [==============================] - 0s 4ms/step - loss: 721.8143\n",
      "Epoch 41/150\n",
      "29/29 [==============================] - 0s 4ms/step - loss: 684.8558\n",
      "Epoch 42/150\n",
      "29/29 [==============================] - 0s 4ms/step - loss: 650.1340\n",
      "Epoch 43/150\n",
      "29/29 [==============================] - 0s 5ms/step - loss: 617.4879\n",
      "Epoch 44/150\n",
      "29/29 [==============================] - 0s 4ms/step - loss: 586.7683\n",
      "Epoch 45/150\n",
      "29/29 [==============================] - 0s 4ms/step - loss: 557.8372\n",
      "Epoch 46/150\n",
      "29/29 [==============================] - 0s 4ms/step - loss: 530.5663\n",
      "Epoch 47/150\n",
      "29/29 [==============================] - 0s 4ms/step - loss: 504.8368\n",
      "Epoch 48/150\n",
      "29/29 [==============================] - 0s 4ms/step - loss: 480.5385\n",
      "Epoch 49/150\n",
      "29/29 [==============================] - 0s 4ms/step - loss: 457.5692\n",
      "Epoch 50/150\n",
      "29/29 [==============================] - 0s 4ms/step - loss: 435.8354\n",
      "Epoch 51/150\n",
      "29/29 [==============================] - 0s 4ms/step - loss: 415.2493\n",
      "Epoch 52/150\n",
      "29/29 [==============================] - 0s 4ms/step - loss: 395.7313\n",
      "Epoch 53/150\n",
      "29/29 [==============================] - 0s 4ms/step - loss: 377.2071\n",
      "Epoch 54/150\n",
      "29/29 [==============================] - 0s 4ms/step - loss: 359.6081\n",
      "Epoch 55/150\n",
      "29/29 [==============================] - 0s 4ms/step - loss: 342.8726\n",
      "Epoch 56/150\n",
      "29/29 [==============================] - 0s 4ms/step - loss: 326.9429\n",
      "Epoch 57/150\n",
      "29/29 [==============================] - 0s 4ms/step - loss: 311.7662\n",
      "Epoch 58/150\n",
      "29/29 [==============================] - 0s 4ms/step - loss: 297.2944\n",
      "Epoch 59/150\n",
      "29/29 [==============================] - 0s 4ms/step - loss: 283.4836\n",
      "Epoch 60/150\n",
      "29/29 [==============================] - 0s 4ms/step - loss: 270.2933\n",
      "Epoch 61/150\n",
      "29/29 [==============================] - 0s 4ms/step - loss: 257.6869\n",
      "Epoch 62/150\n",
      "29/29 [==============================] - 0s 4ms/step - loss: 245.6307\n",
      "Epoch 63/150\n",
      "29/29 [==============================] - 0s 4ms/step - loss: 234.0937\n",
      "Epoch 64/150\n",
      "29/29 [==============================] - 0s 4ms/step - loss: 223.0484\n",
      "Epoch 65/150\n",
      "29/29 [==============================] - 0s 4ms/step - loss: 212.4689\n",
      "Epoch 66/150\n",
      "29/29 [==============================] - 0s 4ms/step - loss: 202.3320\n",
      "Epoch 67/150\n",
      "29/29 [==============================] - 0s 5ms/step - loss: 192.6160\n",
      "Epoch 68/150\n",
      "29/29 [==============================] - 0s 4ms/step - loss: 183.3015\n",
      "Epoch 69/150\n",
      "29/29 [==============================] - 0s 5ms/step - loss: 174.3702\n",
      "Epoch 70/150\n",
      "29/29 [==============================] - 0s 6ms/step - loss: 165.8058\n",
      "Epoch 71/150\n",
      "29/29 [==============================] - 0s 6ms/step - loss: 157.5926\n",
      "Epoch 72/150\n",
      "29/29 [==============================] - 0s 6ms/step - loss: 149.7167\n",
      "Epoch 73/150\n",
      "29/29 [==============================] - 0s 7ms/step - loss: 142.1649\n",
      "Epoch 74/150\n",
      "29/29 [==============================] - 0s 6ms/step - loss: 134.9247\n",
      "Epoch 75/150\n",
      "29/29 [==============================] - 0s 6ms/step - loss: 127.9849\n",
      "Epoch 76/150\n",
      "29/29 [==============================] - 0s 6ms/step - loss: 121.3346\n",
      "Epoch 77/150\n",
      "29/29 [==============================] - 0s 6ms/step - loss: 114.9637\n",
      "Epoch 78/150\n",
      "29/29 [==============================] - 0s 7ms/step - loss: 108.8627\n",
      "Epoch 79/150\n",
      "29/29 [==============================] - 0s 8ms/step - loss: 103.0225\n",
      "Epoch 80/150\n",
      "29/29 [==============================] - 0s 8ms/step - loss: 97.4343\n",
      "Epoch 81/150\n",
      "29/29 [==============================] - 0s 8ms/step - loss: 92.0900\n",
      "Epoch 82/150\n",
      "29/29 [==============================] - 0s 8ms/step - loss: 86.9816\n",
      "Epoch 83/150\n",
      "29/29 [==============================] - 0s 9ms/step - loss: 82.1016\n",
      "Epoch 84/150\n",
      "29/29 [==============================] - 0s 9ms/step - loss: 77.4425\n",
      "Epoch 85/150\n",
      "29/29 [==============================] - 0s 9ms/step - loss: 72.9973\n",
      "Epoch 86/150\n",
      "29/29 [==============================] - 0s 9ms/step - loss: 68.7589\n",
      "Epoch 87/150\n",
      "29/29 [==============================] - 0s 9ms/step - loss: 64.7207\n",
      "Epoch 88/150\n",
      "29/29 [==============================] - 0s 9ms/step - loss: 60.8763\n",
      "Epoch 89/150\n",
      "29/29 [==============================] - 0s 8ms/step - loss: 57.2192\n",
      "Epoch 90/150\n",
      "29/29 [==============================] - 0s 8ms/step - loss: 53.7430\n",
      "Epoch 91/150\n",
      "29/29 [==============================] - 0s 7ms/step - loss: 50.4418\n",
      "Epoch 92/150\n",
      "29/29 [==============================] - 0s 8ms/step - loss: 47.3096\n",
      "Epoch 93/150\n",
      "29/29 [==============================] - 0s 8ms/step - loss: 44.3405\n",
      "Epoch 94/150\n",
      "29/29 [==============================] - 0s 8ms/step - loss: 41.5287\n",
      "Epoch 95/150\n",
      "29/29 [==============================] - 0s 10ms/step - loss: 38.8686\n",
      "Epoch 96/150\n",
      "29/29 [==============================] - 0s 9ms/step - loss: 36.3546\n",
      "Epoch 97/150\n",
      "29/29 [==============================] - 0s 8ms/step - loss: 33.9812\n",
      "Epoch 98/150\n",
      "29/29 [==============================] - 0s 8ms/step - loss: 31.7431\n",
      "Epoch 99/150\n"
     ]
    },
    {
     "name": "stdout",
     "output_type": "stream",
     "text": [
      "29/29 [==============================] - 0s 5ms/step - loss: 29.6351\n",
      "Epoch 100/150\n",
      "29/29 [==============================] - 0s 4ms/step - loss: 27.6519\n",
      "Epoch 101/150\n",
      "29/29 [==============================] - 0s 4ms/step - loss: 25.7885\n",
      "Epoch 102/150\n",
      "29/29 [==============================] - 0s 4ms/step - loss: 24.0398\n",
      "Epoch 103/150\n",
      "29/29 [==============================] - 0s 5ms/step - loss: 22.4010\n",
      "Epoch 104/150\n",
      "29/29 [==============================] - 0s 4ms/step - loss: 20.8672\n",
      "Epoch 105/150\n",
      "29/29 [==============================] - 0s 4ms/step - loss: 19.4338\n",
      "Epoch 106/150\n",
      "29/29 [==============================] - 0s 5ms/step - loss: 18.0962\n",
      "Epoch 107/150\n",
      "29/29 [==============================] - 0s 4ms/step - loss: 16.8498\n",
      "Epoch 108/150\n",
      "29/29 [==============================] - 0s 4ms/step - loss: 15.6902\n",
      "Epoch 109/150\n",
      "29/29 [==============================] - 0s 4ms/step - loss: 14.6132\n",
      "Epoch 110/150\n",
      "29/29 [==============================] - 0s 5ms/step - loss: 13.6146\n",
      "Epoch 111/150\n",
      "29/29 [==============================] - 0s 4ms/step - loss: 12.6902\n",
      "Epoch 112/150\n",
      "29/29 [==============================] - 0s 4ms/step - loss: 11.8362\n",
      "Epoch 113/150\n",
      "29/29 [==============================] - 0s 4ms/step - loss: 11.0487\n",
      "Epoch 114/150\n",
      "29/29 [==============================] - 0s 5ms/step - loss: 10.3239\n",
      "Epoch 115/150\n",
      "29/29 [==============================] - 0s 4ms/step - loss: 9.6584\n",
      "Epoch 116/150\n",
      "29/29 [==============================] - 0s 5ms/step - loss: 9.0485\n",
      "Epoch 117/150\n",
      "29/29 [==============================] - 0s 4ms/step - loss: 8.4909\n",
      "Epoch 118/150\n",
      "29/29 [==============================] - 0s 4ms/step - loss: 7.9824\n",
      "Epoch 119/150\n",
      "29/29 [==============================] - 0s 4ms/step - loss: 7.5199\n",
      "Epoch 120/150\n",
      "29/29 [==============================] - 0s 5ms/step - loss: 7.1004\n",
      "Epoch 121/150\n",
      "29/29 [==============================] - 0s 4ms/step - loss: 6.7211\n",
      "Epoch 122/150\n",
      "29/29 [==============================] - 0s 4ms/step - loss: 6.3792\n",
      "Epoch 123/150\n",
      "29/29 [==============================] - 0s 4ms/step - loss: 6.0722\n",
      "Epoch 124/150\n",
      "29/29 [==============================] - 0s 4ms/step - loss: 5.7976\n",
      "Epoch 125/150\n",
      "29/29 [==============================] - 0s 5ms/step - loss: 5.5530\n",
      "Epoch 126/150\n",
      "29/29 [==============================] - 0s 4ms/step - loss: 5.3363\n",
      "Epoch 127/150\n",
      "29/29 [==============================] - 0s 5ms/step - loss: 5.1453\n",
      "Epoch 128/150\n",
      "29/29 [==============================] - 0s 4ms/step - loss: 4.9781\n",
      "Epoch 129/150\n",
      "29/29 [==============================] - 0s 5ms/step - loss: 4.8328\n",
      "Epoch 130/150\n",
      "29/29 [==============================] - 0s 4ms/step - loss: 4.7078\n",
      "Epoch 131/150\n",
      "29/29 [==============================] - 0s 5ms/step - loss: 4.6013\n",
      "Epoch 132/150\n",
      "29/29 [==============================] - 0s 5ms/step - loss: 4.5119\n",
      "Epoch 133/150\n",
      "29/29 [==============================] - 0s 5ms/step - loss: 4.4382\n",
      "Epoch 134/150\n",
      "29/29 [==============================] - 0s 5ms/step - loss: 4.3789\n",
      "Epoch 135/150\n",
      "29/29 [==============================] - 0s 5ms/step - loss: 4.3329\n",
      "Epoch 136/150\n",
      "29/29 [==============================] - 0s 5ms/step - loss: 4.2989\n",
      "Epoch 137/150\n",
      "29/29 [==============================] - 0s 5ms/step - loss: 4.2761\n",
      "Epoch 138/150\n",
      "29/29 [==============================] - 0s 5ms/step - loss: 4.2636\n",
      "Epoch 139/150\n",
      "29/29 [==============================] - 0s 5ms/step - loss: 4.2604\n",
      "Epoch 140/150\n",
      "29/29 [==============================] - 0s 5ms/step - loss: 4.2659\n",
      "Epoch 141/150\n",
      "29/29 [==============================] - 0s 5ms/step - loss: 4.2794\n",
      "Epoch 142/150\n",
      "29/29 [==============================] - 0s 5ms/step - loss: 4.3004\n",
      "Epoch 143/150\n",
      "29/29 [==============================] - 0s 5ms/step - loss: 4.3283\n",
      "Epoch 144/150\n",
      "29/29 [==============================] - 0s 5ms/step - loss: 4.3626\n",
      "Epoch 145/150\n",
      "29/29 [==============================] - 0s 5ms/step - loss: 4.4031\n",
      "Epoch 146/150\n",
      "29/29 [==============================] - 0s 5ms/step - loss: 4.4493\n",
      "Epoch 147/150\n",
      "29/29 [==============================] - 0s 5ms/step - loss: 4.5010\n",
      "Epoch 148/150\n",
      "29/29 [==============================] - 0s 5ms/step - loss: 4.5580\n",
      "Epoch 149/150\n",
      "29/29 [==============================] - 0s 5ms/step - loss: 4.6202\n",
      "Epoch 150/150\n",
      "29/29 [==============================] - 0s 5ms/step - loss: 4.6874\n"
     ]
    }
   ],
   "source": [
    "hist = model.fit(x_train,y_train,epochs=150,batch_size=8,verbose=1,shuffle=False)"
   ]
  },
  {
   "cell_type": "code",
   "execution_count": 20,
   "metadata": {},
   "outputs": [
    {
     "data": {
      "text/plain": [
       "Text(0.5, 1.0, 'Training Loss vs Epochs')"
      ]
     },
     "execution_count": 20,
     "metadata": {},
     "output_type": "execute_result"
    },
    {
     "data": {
      "image/png": "[encoded data removed]",
      "text/plain": [
       "<Figure size 640x480 with 1 Axes>"
      ]
     },
     "metadata": {},
     "output_type": "display_data"
    }
   ],
   "source": [
    "# Plotting the loss curve to validate training process\n",
    "\n",
    "history_dict = hist.history\n",
    "\n",
    "plt.plot(range(1,151),history_dict['loss'],'b-')\n",
    "plt.title(\"Training Loss vs Epochs\")"
   ]
  },
  {
   "cell_type": "markdown",
   "metadata": {},
   "source": [
    "The training loss decreases exponentially as training progresses, indicating that the model has trained correctly."
   ]
  },
  {
   "cell_type": "markdown",
   "metadata": {},
   "source": [
    "## Predictions\n"
   ]
  },
  {
   "cell_type": "code",
   "execution_count": 21,
   "metadata": {},
   "outputs": [
    {
     "name": "stdout",
     "output_type": "stream",
     "text": [
      "1/1 [==============================] - 0s 490ms/step\n"
     ]
    }
   ],
   "source": [
    "preds = model.predict(x_test)"
   ]
  },
  {
   "cell_type": "markdown",
   "metadata": {},
   "source": [
    "## Plotting true and predicted Adjusted Close Values"
   ]
  },
  {
   "cell_type": "code",
   "execution_count": 22,
   "metadata": {},
   "outputs": [
    {
     "data": {
      "image/png": "[encoded data removed]",
      "text/plain": [
       "<Figure size 640x480 with 1 Axes>"
      ]
     },
     "metadata": {},
     "output_type": "display_data"
    }
   ],
   "source": [
    "plt.plot(range(y_test.shape[0]),y_test.values,label=\"True Adj Close\")\n",
    "plt.plot(range(y_test.shape[0]),preds,label=\"Predicted Adj Close\")\n",
    "plt.xlabel(\"Time\")\n",
    "plt.ylabel(\"Stock prices\")\n",
    "plt.title(\"Stock Price Prediction by LSTM\")\n",
    "plt.legend()\n",
    "plt.show()"
   ]
  },
  {
   "cell_type": "markdown",
   "metadata": {},
   "source": [
    "This comparison graph reinforces our beliefs about the pros and cons about using Vanilla LSTMs. For one, our model is able to capture the general daily trend in Microsoft Stock Prices. While the model works well when it comes to predicting ~12 days into the future, the predictions get significantly worse beyond that. This is because a vanilla LSTM struggles to handle longer sequences and predictions get worse because of the problem of exploding and vanishing gradients. "
   ]
  }
 ],
 "metadata": {
  "kernelspec": {
   "display_name": "Python 3 (ipykernel)",
   "language": "python",
   "name": "python3"
  },
  "language_info": {
   "codemirror_mode": {
    "name": "ipython",
    "version": 3
   },
   "file_extension": ".py",
   "mimetype": "text/x-python",
   "name": "python",
   "nbconvert_exporter": "python",
   "pygments_lexer": "ipython3",
   "version": "3.10.9"
  }
 },
 "nbformat": 4,
 "nbformat_minor": 1
}
